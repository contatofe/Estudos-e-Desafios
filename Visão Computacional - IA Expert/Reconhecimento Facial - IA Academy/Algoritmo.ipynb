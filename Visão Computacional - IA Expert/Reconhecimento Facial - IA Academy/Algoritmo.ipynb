from PIL import Image
import cv2

def get_image_data():
  paths = [os.path.join('Imagens', f) for f in os.listdir('Imagens')]
  faces = []
  labels = []
  for path in paths:
    img = Image.open(path).convert('L')
    img_np = np.array(img, 'uint8') #Transformando imagem em um array do numpy
    id = int(os.path.split(path)[1].split('.')[1]) #Separando o número de cada pessoa do nome
    labels.append(id)
    faces.append(img_np)

  return np.array(labels), faces