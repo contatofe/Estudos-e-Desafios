{
  "nbformat": 4,
  "nbformat_minor": 0,
  "metadata": {
    "colab": {
      "provenance": [],
      "mount_file_id": "1oEtEYZV1WXqHtUsoQhQ82kbI-QyTPul2",
      "authorship_tag": "ABX9TyO/LzBbDlOowj2cWvzrQUA2",
      "include_colab_link": true
    },
    "kernelspec": {
      "name": "python3",
      "display_name": "Python 3"
    },
    "language_info": {
      "name": "python"
    }
  },
  "cells": [
    {
      "cell_type": "markdown",
      "metadata": {
        "id": "view-in-github",
        "colab_type": "text"
      },
      "source": [
        "<a href=\"https://colab.research.google.com/github/contatofe/Estudos-e-Desafios/blob/main/Desafio_4_Regress%C3%A3o_com_redes_neurais_Udemy.ipynb\" target=\"_parent\"><img src=\"https://colab.research.google.com/assets/colab-badge.svg\" alt=\"Open In Colab\"/></a>"
      ]
    },
    {
      "cell_type": "markdown",
      "source": [
        "Obs.: esse exercício é uma continuação do exercício 2 de regressão."
      ],
      "metadata": {
        "id": "B2HLKwdzLw3E"
      }
    },
    {
      "cell_type": "markdown",
      "source": [
        "Resultados obtidos no segundo desafio:\n",
        "\n",
        "**Regressão linear** - R2: 77.24% | RMSE: 6240.21 | R2 Validação Cruzada: 72.70%\n",
        "\n",
        "**SVM** - R2: 83.13% | RMSE: 5373.08 | R2 Validação Cruzada: 81.35%\n",
        "\n",
        "**Árvore de Decisão** - R2: 87.23% | RMSE: 4674.52 | R2 Validação Cruzada: 84.01%\n",
        "\n",
        "**Random Forest** - R2: 87.48% | RMSE: 4627.77 | R2 Validação Cruzada: 84.79%\n",
        "\n",
        "**XGBoost** - R2: 87.79% | RMSE: 4570.70 | R2 Validação Cruzada: 84.95%\n",
        "\n",
        "**LightGBM** - R2: 87.85% | RMSE: 4560.51 | R2 Validação Cruzada: 84.80%\n",
        "\n",
        "**Catboost** - R2: 87.31% | RMSE: 4659.89 | R2 Validação Cruzada: 84.60%"
      ],
      "metadata": {
        "id": "wQpXN3A9LyVw"
      }
    },
    {
      "cell_type": "markdown",
      "source": [
        "# Importações"
      ],
      "metadata": {
        "id": "CFO4O-ixL970"
      }
    },
    {
      "cell_type": "code",
      "execution_count": null,
      "metadata": {
        "id": "x-IagUbeLqsv"
      },
      "outputs": [],
      "source": [
        "import warnings\n",
        "warnings.filterwarnings(\"ignore\")"
      ]
    },
    {
      "cell_type": "code",
      "source": [
        "import numpy as np\n",
        "import pandas as pd\n",
        "import matplotlib.pyplot as plt\n",
        "import seaborn as sns\n",
        "from sklearn.preprocessing import LabelEncoder\n",
        "from sklearn.model_selection import train_test_split\n",
        "from sklearn.metrics import mean_squared_error, mean_absolute_error, r2_score\n",
        "from sklearn.model_selection import KFold\n",
        "from sklearn.model_selection import cross_val_score\n",
        "from sklearn.neural_network import MLPRegressor"
      ],
      "metadata": {
        "id": "nNzJG_Q3L_33"
      },
      "execution_count": null,
      "outputs": []
    },
    {
      "cell_type": "markdown",
      "source": [
        "# Pré Processamento"
      ],
      "metadata": {
        "id": "qEendGZEMTbB"
      }
    },
    {
      "cell_type": "code",
      "source": [
        "df = pd.read_csv('/content/drive/MyDrive/Arquivos - Dados/insurance.csv')"
      ],
      "metadata": {
        "id": "6PPhfm0LMUFw"
      },
      "execution_count": null,
      "outputs": []
    },
    {
      "cell_type": "code",
      "source": [
        "df.drop_duplicates(inplace=True)"
      ],
      "metadata": {
        "id": "l5WPUhnDMXIB"
      },
      "execution_count": null,
      "outputs": []
    },
    {
      "cell_type": "code",
      "source": [
        "previsores = df.drop(columns=['charges'])\n",
        "alvo = df['charges']"
      ],
      "metadata": {
        "id": "N2mjAKSUMZyH"
      },
      "execution_count": null,
      "outputs": []
    },
    {
      "cell_type": "code",
      "source": [
        "#Transformando variáveis categóricas em numéricas.\n",
        "\n",
        "le = LabelEncoder()\n",
        "previsores['sex'] = le.fit_transform(previsores['sex'])\n",
        "previsores['smoker'] = le.fit_transform(previsores['smoker'])\n",
        "\n",
        "previsores = pd.concat([previsores, pd.get_dummies(previsores['region'])], axis=1)\n",
        "previsores.drop(columns=['region'], inplace=True)"
      ],
      "metadata": {
        "id": "wNl9b2ltMeoM"
      },
      "execution_count": null,
      "outputs": []
    },
    {
      "cell_type": "markdown",
      "source": [
        "#Separando bases de treino e teste"
      ],
      "metadata": {
        "id": "IvyLMYG9MiHU"
      }
    },
    {
      "cell_type": "code",
      "source": [
        "x_treino, x_teste, y_treino, y_teste = train_test_split(previsores, alvo, test_size = 0.3, random_state = 42)"
      ],
      "metadata": {
        "id": "k4icymR3MgLF"
      },
      "execution_count": null,
      "outputs": []
    },
    {
      "cell_type": "markdown",
      "source": [
        "# Criando modelos"
      ],
      "metadata": {
        "id": "UrkPZ4EbMl6Y"
      }
    },
    {
      "cell_type": "markdown",
      "source": [
        "##Redes neurais"
      ],
      "metadata": {
        "id": "13dZFvuEMmfl"
      }
    },
    {
      "cell_type": "code",
      "source": [
        "#previsões\n",
        "redes = MLPRegressor(hidden_layer_sizes=(10,10), activation='relu', verbose=False, max_iter=1000,solver='lbfgs')\n",
        "redes.fit(x_treino, y_treino)\n",
        "y_pred = redes.predict(x_teste)"
      ],
      "metadata": {
        "id": "iqwtFsSBNA9n"
      },
      "execution_count": null,
      "outputs": []
    },
    {
      "cell_type": "code",
      "source": [
        "#métricas - teste\n",
        "print(f'R2 = {(r2_score(y_teste, y_pred)):.2%}')\n",
        "print(f'RMSE = {np.sqrt(mean_squared_error(y_teste, y_pred)):.2f}')\n",
        "print(f'MAE = {mean_absolute_error(y_teste, y_pred):.2f}')"
      ],
      "metadata": {
        "colab": {
          "base_uri": "https://localhost:8080/"
        },
        "id": "Vpi7k0chNBra",
        "outputId": "fb314a50-c02c-4f3f-c174-e1985719039b"
      },
      "execution_count": null,
      "outputs": [
        {
          "output_type": "stream",
          "name": "stdout",
          "text": [
            "R2 = 85.38%\n",
            "RMSE = 5001.93\n",
            "MAE = 2928.50\n"
          ]
        }
      ]
    },
    {
      "cell_type": "code",
      "source": [
        "#validação cruzada\n",
        "kfold = KFold(n_splits = 30, shuffle=True, random_state = 42)\n",
        "modelo = redes\n",
        "resultado = cross_val_score(modelo, previsores, alvo, cv = kfold)\n",
        "print(\"R2 Médio: %.2f%%\" % (resultado.mean() * 100.0))"
      ],
      "metadata": {
        "colab": {
          "base_uri": "https://localhost:8080/"
        },
        "id": "BrC_XzAuNDyo",
        "outputId": "775a4994-ea5f-4909-ba75-5038b7338e80"
      },
      "execution_count": null,
      "outputs": [
        {
          "output_type": "stream",
          "name": "stdout",
          "text": [
            "R2 Médio: 74.63%\n"
          ]
        }
      ]
    },
    {
      "cell_type": "markdown",
      "source": [
        "##Resultados"
      ],
      "metadata": {
        "id": "h4DXPyuHMotc"
      }
    },
    {
      "cell_type": "markdown",
      "source": [
        "**Regressão linear** - R2: 77.24% | RMSE: 6240.21 | R2 Validação Cruzada: 72.70%\n",
        "\n",
        "**SVM** - R2: 83.13% | RMSE: 5373.08 | R2 Validação Cruzada: 81.35%\n",
        "\n",
        "**Árvore de Decisão** - R2: 87.23% | RMSE: 4674.52 | R2 Validação Cruzada: 84.01%\n",
        "\n",
        "**Random Forest** - R2: 87.48% | RMSE: 4627.77 | R2 Validação Cruzada: 84.79%\n",
        "\n",
        "**XGBoost** - R2: 87.79% | RMSE: 4570.70 | R2 Validação Cruzada: 84.95%\n",
        "\n",
        "**LightGBM** - R2: 87.85% | RMSE: 4560.51 | R2 Validação Cruzada: 84.80%\n",
        "\n",
        "**Catboost** - R2: 87.31% | RMSE: 4659.89 | R2 Validação Cruzada: 84.60%\n",
        "\n",
        "**Redes Neurais** - R2: 85.38% | RMSE: 5001.93 | R2 Validação Cruzada: 74.63%\n",
        "\n",
        "---\n",
        "\n",
        "As redes neurais performaram um pouco pior que os modelos que já estavam vencendo."
      ],
      "metadata": {
        "id": "IyJS1k-QMtHO"
      }
    }
  ]
}