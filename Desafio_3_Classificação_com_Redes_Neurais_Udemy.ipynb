{
  "nbformat": 4,
  "nbformat_minor": 0,
  "metadata": {
    "colab": {
      "provenance": [],
      "mount_file_id": "1mwkdYa2wAUfKbj3vu1tv_GaX4cOUOtkW",
      "authorship_tag": "ABX9TyMGHL8U9+VdulVUcYFsxD4j",
      "include_colab_link": true
    },
    "kernelspec": {
      "name": "python3",
      "display_name": "Python 3"
    },
    "language_info": {
      "name": "python"
    }
  },
  "cells": [
    {
      "cell_type": "markdown",
      "metadata": {
        "id": "view-in-github",
        "colab_type": "text"
      },
      "source": [
        "<a href=\"https://colab.research.google.com/github/contatofe/Estudos-e-Desafios/blob/main/Desafio_3_Classifica%C3%A7%C3%A3o_com_Redes_Neurais_Udemy.ipynb\" target=\"_parent\"><img src=\"https://colab.research.google.com/assets/colab-badge.svg\" alt=\"Open In Colab\"/></a>"
      ]
    },
    {
      "cell_type": "markdown",
      "source": [
        "Obs.: esse exercício é uma continuação do exercício 1 de classificação."
      ],
      "metadata": {
        "id": "7O_SkskOIPsh"
      }
    },
    {
      "cell_type": "markdown",
      "source": [
        "Resultados obtidos no primeiro desafio:\n",
        "\n",
        "**Naive Bayes** - Acurácia de teste: 97.37% | Acurácia média: 93.82%\n",
        "\n",
        "**SVM** - Acurácia de teste: 94.74% | Acurácia média: 91.72%\n",
        "\n",
        "**Regressão logística** - Acurácia de teste: 95.61% | Acurácia média: 95.05%\n",
        "\n",
        "**KNN** - Acurácia de teste: 93.86% | Acurácia média: 93.13%\n",
        "\n",
        "**Árvore de decisões** - Acurácia de teste: 95.61% | Acurácia média: 93.67%\n",
        "\n",
        "**Random Forest** - Acurácia de teste: 96.49% | Acurácia média: 95.76%\n",
        "\n",
        "**XGBoost** - Acurácia de teste: 97.37% | Acurácia média: 96.82%\n",
        "\n",
        "**LightGBM** - Acurácia de teste: 95.61% | Acurácia média: 96.11%\n",
        "\n",
        "**Catboost** - Acurácia de teste: 96.49% | Acurácia média: 96.65%"
      ],
      "metadata": {
        "id": "5s1NfEjFIVfK"
      }
    },
    {
      "cell_type": "markdown",
      "source": [
        "#Importações"
      ],
      "metadata": {
        "id": "L0UEtRViIOXF"
      }
    },
    {
      "cell_type": "code",
      "source": [
        "import warnings\n",
        "warnings.filterwarnings(\"ignore\")"
      ],
      "metadata": {
        "id": "5OugQwJRJRgs"
      },
      "execution_count": null,
      "outputs": []
    },
    {
      "cell_type": "code",
      "execution_count": null,
      "metadata": {
        "id": "W5sYGIHmIFkF"
      },
      "outputs": [],
      "source": [
        "import numpy as np\n",
        "import pandas as pd\n",
        "import seaborn as sns\n",
        "import matplotlib.pyplot as plt\n",
        "from sklearn.model_selection import train_test_split\n",
        "from sklearn.metrics import accuracy_score, confusion_matrix, classification_report\n",
        "from sklearn.model_selection import KFold\n",
        "from sklearn.model_selection import cross_val_score\n",
        "from sklearn.neural_network import MLPClassifier"
      ]
    },
    {
      "cell_type": "markdown",
      "source": [
        "# Pré Processamento"
      ],
      "metadata": {
        "id": "qlzaHTdvImUs"
      }
    },
    {
      "cell_type": "code",
      "source": [
        "df = pd.read_csv('/content/drive/MyDrive/Arquivos - Dados/data_cancer2.csv')"
      ],
      "metadata": {
        "id": "qQcZvQ9xJCH1"
      },
      "execution_count": null,
      "outputs": []
    },
    {
      "cell_type": "code",
      "source": [
        "df = df.drop(columns=['Unnamed: 32','id'])"
      ],
      "metadata": {
        "id": "zrT5Dp61JCkX"
      },
      "execution_count": null,
      "outputs": []
    },
    {
      "cell_type": "code",
      "source": [
        "previsores = df.drop(columns=['diagnosis'])\n",
        "alvo = df['diagnosis']"
      ],
      "metadata": {
        "id": "IdfuJdwFInJ1"
      },
      "execution_count": null,
      "outputs": []
    },
    {
      "cell_type": "code",
      "source": [
        "#transformando dados alvo em números.\n",
        "\n",
        "alvo.replace({'M':0, 'B': 1}, inplace=True)"
      ],
      "metadata": {
        "id": "rkybufLaIpK7"
      },
      "execution_count": null,
      "outputs": []
    },
    {
      "cell_type": "markdown",
      "source": [
        "#Separando bases de treino e teste"
      ],
      "metadata": {
        "id": "ponkLR5lIv5H"
      }
    },
    {
      "cell_type": "code",
      "source": [
        "x_treino, x_teste, y_treino, y_teste = train_test_split(previsores, alvo, test_size = 0.2, random_state = 42)"
      ],
      "metadata": {
        "id": "fyAWrBP2Iqnk"
      },
      "execution_count": null,
      "outputs": []
    },
    {
      "cell_type": "markdown",
      "source": [
        "#Criando Modelos"
      ],
      "metadata": {
        "id": "BIX8tRJtIzji"
      }
    },
    {
      "cell_type": "markdown",
      "source": [
        "## Redes neurais"
      ],
      "metadata": {
        "id": "b7gW4IolI0YH"
      }
    },
    {
      "cell_type": "code",
      "source": [
        "#previsões\n",
        "rede = MLPClassifier(hidden_layer_sizes=(7), activation='relu', solver='adam', max_iter =800,\n",
        "                              tol=0.0001, random_state = 42, verbose = False)\n",
        "rede.fit(x_treino, y_treino)\n",
        "previsoes_rede = rede.predict(x_teste)"
      ],
      "metadata": {
        "id": "Bb6wjyGPI16g"
      },
      "execution_count": null,
      "outputs": []
    },
    {
      "cell_type": "code",
      "source": [
        "#métricas - teste\n",
        "print(\"Acurácia: %.2f%%\" % (accuracy_score(y_teste, previsoes_rede) * 100.0))\n",
        "print(\"\\n\\n\",classification_report(y_teste, previsoes_rede))\n",
        "sns.heatmap(confusion_matrix(y_teste, previsoes_rede),annot = True, cmap=\"Greens\", fmt=\"d\");"
      ],
      "metadata": {
        "colab": {
          "base_uri": "https://localhost:8080/",
          "height": 638
        },
        "id": "AFSTgMcTI4Vs",
        "outputId": "34ba8b2e-8f27-47d0-f080-374acdfb82d7"
      },
      "execution_count": null,
      "outputs": [
        {
          "output_type": "stream",
          "name": "stdout",
          "text": [
            "Acurácia: 94.74%\n",
            "\n",
            "\n",
            "               precision    recall  f1-score   support\n",
            "\n",
            "           0       1.00      0.86      0.93        43\n",
            "           1       0.92      1.00      0.96        71\n",
            "\n",
            "    accuracy                           0.95       114\n",
            "   macro avg       0.96      0.93      0.94       114\n",
            "weighted avg       0.95      0.95      0.95       114\n",
            "\n"
          ]
        },
        {
          "output_type": "display_data",
          "data": {
            "text/plain": [
              "<Figure size 640x480 with 2 Axes>"
            ],
            "image/png": "[encoded data removed]"
          },
          "metadata": {}
        }
      ]
    },
    {
      "cell_type": "code",
      "source": [
        "#métricas - treino\n",
        "previsoes_treino = rede.predict(x_treino)\n",
        "print(\"Acurácia: %.2f%%\" % (accuracy_score(y_treino, previsoes_treino) * 100.0))\n",
        "print(\"\\n\\n\", classification_report(y_treino, previsoes_treino))\n",
        "sns.heatmap(confusion_matrix(y_treino, previsoes_treino),annot = True, cmap=\"Greens\", fmt=\"d\");"
      ],
      "metadata": {
        "colab": {
          "base_uri": "https://localhost:8080/",
          "height": 638
        },
        "id": "J0_Z5DJjI6CQ",
        "outputId": "579cbb60-47d0-461c-eda2-8a8f985c92bb"
      },
      "execution_count": null,
      "outputs": [
        {
          "output_type": "stream",
          "name": "stdout",
          "text": [
            "Acurácia: 94.29%\n",
            "\n",
            "\n",
            "               precision    recall  f1-score   support\n",
            "\n",
            "           0       0.92      0.92      0.92       169\n",
            "           1       0.95      0.95      0.95       286\n",
            "\n",
            "    accuracy                           0.94       455\n",
            "   macro avg       0.94      0.94      0.94       455\n",
            "weighted avg       0.94      0.94      0.94       455\n",
            "\n"
          ]
        },
        {
          "output_type": "display_data",
          "data": {
            "text/plain": [
              "<Figure size 640x480 with 2 Axes>"
            ],
            "image/png": "[encoded data removed]"
          },
          "metadata": {}
        }
      ]
    },
    {
      "cell_type": "code",
      "source": [
        "#validação cruzada\n",
        "kfold = KFold(n_splits = 30, shuffle=True, random_state = 42)\n",
        "modelo = rede\n",
        "resultado = cross_val_score(modelo, previsores, alvo, cv = kfold)\n",
        "print(\"Acurácia Média: %.2f%%\" % (resultado.mean() * 100.0))"
      ],
      "metadata": {
        "colab": {
          "base_uri": "https://localhost:8080/"
        },
        "id": "uZI7GwmqI77e",
        "outputId": "d38379aa-ab69-437a-98ac-8615f1fa7609"
      },
      "execution_count": null,
      "outputs": [
        {
          "output_type": "stream",
          "name": "stdout",
          "text": [
            "Acurácia Média: 94.55%\n"
          ]
        }
      ]
    },
    {
      "cell_type": "markdown",
      "source": [
        "##Resultados"
      ],
      "metadata": {
        "id": "dgi8sxPSKJ4P"
      }
    },
    {
      "cell_type": "markdown",
      "source": [
        "**Naive Bayes** - Acurácia de teste: 97.37% | Acurácia média: 93.82%\n",
        "\n",
        "**SVM** - Acurácia de teste: 94.74% | Acurácia média: 91.72%\n",
        "\n",
        "**Regressão logística** - Acurácia de teste: 95.61% | Acurácia média: 95.05%\n",
        "\n",
        "**KNN** - Acurácia de teste: 93.86% | Acurácia média: 93.13%\n",
        "\n",
        "**Árvore de decisões** - Acurácia de teste: 95.61% | Acurácia média: 93.67%\n",
        "\n",
        "**Random Forest** - Acurácia de teste: 96.49% | Acurácia média: 95.76%\n",
        "\n",
        "**XGBoost** - Acurácia de teste: 97.37% | Acurácia média: 96.82%\n",
        "\n",
        "**LightGBM** - Acurácia de teste: 95.61% | Acurácia média: 96.11%\n",
        "\n",
        "**Catboost** - Acurácia de teste: 96.49% | Acurácia média: 96.65%\n",
        "\n",
        "**Redes Neurais** - Acurácia de teste: 94.29% | Acurácia média: 94.55%\n",
        "\n",
        "As redes neurais performaram um pouco abaixo dos outros modelos já treinados."
      ],
      "metadata": {
        "id": "9c53x8RLKLvF"
      }
    }
  ]
}